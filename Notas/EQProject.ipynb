{
 "cells": [
  {
   "cell_type": "markdown",
   "metadata": {},
   "source": [
    "# EQProject"
   ]
  },
  {
   "cell_type": "markdown",
   "metadata": {},
   "source": [
    "## Notas del proyecto:\n",
    "\n",
    "* Mirar si la función integral_muestral() se puede hacer de forma más rápida con scipy.integrate o si definitivamente toca en lenguaje C."
   ]
  },
  {
   "cell_type": "markdown",
   "metadata": {},
   "source": [
    "# Marco Teórico\n",
    "\n",
    "Una función periódica $f(t)$ se puede expresar mediante series de Fourier como:"
   ]
  },
  {
   "cell_type": "markdown",
   "metadata": {},
   "source": [
    "\\begin{align}\n",
    "f(t) = \\frac{a_0}{2} + \\sum_{n=1}^{\\infty} a_n cos(\\omega_n t) + \\sum_{n=1}^{\\infty} b_n sin(\\omega_n t),\n",
    "\\end{align}"
   ]
  },
  {
   "cell_type": "markdown",
   "metadata": {},
   "source": [
    "o, de forma exponencial:\n",
    "\\begin{align}\n",
    "f(t) = \\sum_{n=-\\infty}^{\\infty} c_n e^{i \\omega_n t},\n",
    "\\end{align}"
   ]
  },
  {
   "cell_type": "markdown",
   "metadata": {},
   "source": [
    "con $c_n = c_n(a_n, b_n)$"
   ]
  },
  {
   "cell_type": "markdown",
   "metadata": {},
   "source": [
    "Si ahora hacemos que $\\Delta \\omega = (\\omega_{n+1}-\\omega_n) \\longrightarrow d\\omega$, tendríamos que $a \\rightarrow a(\\omega)$ y $b \\rightarrow b(\\omega)$, llevando a que $c \\rightarrow c(\\omega)$. Esta última función no es otra cosa que lo que se conoce como la transformada de Fourier y suele expresarse como:\n",
    "\n",
    "\\begin{align}\n",
    "F\\{f(t)\\} = f(\\omega) = c(\\omega)\n",
    "\\end{align}"
   ]
  },
  {
   "cell_type": "markdown",
   "metadata": {},
   "source": [
    "Expresando lo anterior en términos del álgebra lineal:\n",
    "\n",
    "o, de forma exponencial:\n",
    "\\begin{align}\n",
    "f(t) =& \\sum_{n=-\\infty}^{\\infty} c_n \\hat e \\\\\n",
    "=& \\sum_{n=-\\infty}^{\\infty} (f(t),\\hat e_n) ~ \\hat e_n \\\\\n",
    "=& \\sum_{n=-\\infty}^{\\infty} \\langle \\hat e_n | f(t) \\rangle | \\hat e_n \\rangle \\\\\n",
    "\\end{align}"
   ]
  },
  {
   "cell_type": "markdown",
   "metadata": {},
   "source": [
    "Teniendo en cuenta que $|e_n \\rangle = \\hat e_n = e^{i\\omega_n t}$ y que $\\langle e_n | = \\hat e_n^* = e^{-i\\omega_n t}$, se define el producto interno $\\langle a|b \\rangle$\n",
    "\n",
    "$$\\langle a | b \\rangle = (b,a) = \\int_{-\\infty}^{\\infty} (a^*)b dt = \\int_{-\\infty}^{\\infty} b~a^* dt$$"
   ]
  },
  {
   "cell_type": "markdown",
   "metadata": {},
   "source": [
    "ORGANIZAR BIEN TODO LO ANTERIOR Y DARLE UNA BUENA ESTRUCTURA LÓGICA, PORQUE SE VE HORRIBLE ASÍ TODO TIRADO A LA MALDITA SEA."
   ]
  },
  {
   "cell_type": "markdown",
   "metadata": {},
   "source": [
    "## Promedio una función $f(t)$"
   ]
  },
  {
   "cell_type": "markdown",
   "metadata": {},
   "source": [
    "Hay varias formas de definir \"promedios\" de funciones. Estas son algunas:"
   ]
  },
  {
   "cell_type": "markdown",
   "metadata": {},
   "source": [
    "* $f_{prom} = \\frac{1}{\\Delta t} \\int_{t_0}^{t_0+\\Delta t} f(t) dt$"
   ]
  },
  {
   "cell_type": "markdown",
   "metadata": {},
   "source": [
    "* $f_{prom} = \\frac{1}{\\Delta t} \\int_{t_0}^{t_0+\\Delta t} |f(t)| dt$"
   ]
  },
  {
   "cell_type": "markdown",
   "metadata": {},
   "source": [
    "* $f_{prom} = \\frac{1}{\\Delta t} \\left[\\int_{t_0}^{t_0+\\Delta t} {f(t)}^2 dt\\right]^{\\frac{1}{2}}$"
   ]
  },
  {
   "cell_type": "markdown",
   "metadata": {},
   "source": [
    "* $f_{prom} = \\left[\\frac{1}{\\Delta t} \\int_{t_0}^{t_0+\\Delta t} f(t)^2 ~ dt\\right]^{\\frac{1}{2}}$, siendo este conocido como $f_{RMS}$"
   ]
  },
  {
   "cell_type": "markdown",
   "metadata": {},
   "source": [
    "# Preguntas:"
   ]
  },
  {
   "cell_type": "markdown",
   "metadata": {},
   "source": [
    "* Revisar si la división entre numpy.iinfo(numpy.int16) que se hace en el espectro debe hacerse en la transformada de fourier obtenida o en el cálculo de la magnitud de la misma."
   ]
  },
  {
   "cell_type": "code",
   "execution_count": null,
   "metadata": {},
   "outputs": [],
   "source": []
  }
 ],
 "metadata": {
  "kernelspec": {
   "display_name": "Python 3",
   "language": "python",
   "name": "python3"
  },
  "language_info": {
   "codemirror_mode": {
    "name": "ipython",
    "version": 3
   },
   "file_extension": ".py",
   "mimetype": "text/x-python",
   "name": "python",
   "nbconvert_exporter": "python",
   "pygments_lexer": "ipython3",
   "version": "3.8.12"
  }
 },
 "nbformat": 4,
 "nbformat_minor": 4
}
